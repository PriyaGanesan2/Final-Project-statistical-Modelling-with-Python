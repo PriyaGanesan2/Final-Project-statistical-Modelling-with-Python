{
 "cells": [
  {
   "cell_type": "markdown",
   "metadata": {},
   "source": [
    "# CityBikes"
   ]
  },
  {
   "cell_type": "markdown",
   "metadata": {},
   "source": [
    "Send a request to CityBikes for the city of your choice. "
   ]
  },
  {
   "cell_type": "code",
   "execution_count": null,
   "metadata": {},
   "outputs": [],
   "source": [
    "import numpy as np\n",
    "import pandas as pd\n",
    "import requests\n",
    "\n",
    "#get networkid and city details from the API URL\n",
    "url=\"https://api.citybik.es/v2/networks\"\n",
    "response=requests.get(url)\n",
    "if response.status_code==200:\n",
    "    data=response.json()\n",
    "    \n",
    "    networks=data.get(\"networks\",[])\n",
    "networks\n",
    "\n",
    "for network in networks:\n",
    "        network_id=network.get(\"id\")\n",
    "        city=network.get(\"location\",{}).get(\"city\")\n",
    "        if city=='Toronto, ON':\n",
    "             n=network_id\n",
    "             c=city\n",
    "        \n",
    "        print(f\"Network ID: {network_id}, City: {city}\")\n",
    "else:\n",
    "    print(\"Error reading url\") \n",
    "print(c)  \n",
    "print(n)         \n",
    "\n"
   ]
  },
  {
   "cell_type": "code",
   "execution_count": null,
   "metadata": {},
   "outputs": [],
   "source": [
    "# for the selected networkid  fetch all the station details\n",
    "\n",
    "#network_id=\"velobike-moscow\"\n",
    "network_id=\"bixi-toronto\"\n",
    "stations_url = f\"https://api.citybik.es/v2/networks/{network_id}\"\n",
    "\n",
    "response=requests.get(stations_url)\n",
    "if(response.status_code==200):\n",
    "    stations_data=response.json()    \n",
    "else:\n",
    "    print(response.status_code) \n",
    "\n",
    "stations_list = stations_data.get(\"network\", {}).get(\"stations\", [])\n",
    "stations_list\n",
    "   "
   ]
  },
  {
   "cell_type": "markdown",
   "metadata": {},
   "source": [
    "Parse through the response to get the details you want for the bike stations in that city (latitude, longitude, number of bikes). "
   ]
  },
  {
   "cell_type": "code",
   "execution_count": 7,
   "metadata": {},
   "outputs": [],
   "source": [
    "# fetch the station name, latiyude, longitode , number of available ebikes and normal bikes \n",
    "# craete a df and append the info into the df\n",
    "bike_info_df=pd.DataFrame([\"name\",\"latitude\",\"longitude\",\"ebikes\",\"normalbike\"])\n",
    "for station in stations_list:\n",
    "    station_name = station.get(\"name\")\n",
    "    latitude=station.get(\"latitude\")\n",
    "    longitude=station.get(\"longitude\")\n",
    "    ebike=station.get(\"extra\",{}).get(\"ebikes\")\n",
    "    normalbike=station.get(\"extra\",{}).get(\"normal_bikes\")\n",
    "    bike_info_df=bike_info_df._append({\"name\":station_name,\"latitude\":latitude,\"longitude\":longitude,\"ebikes\":ebike,\"normalbike\":normalbike},ignore_index=True)\n",
    "#save this df to a  csv\n",
    "bike_info_df=bike_info_df[bike_info_df.latitude.notna() & bike_info_df.longitude.notna()]\n",
    "bike_info_df.to_csv('../bike_info_csv.csv', index=False)"
   ]
  },
  {
   "cell_type": "code",
   "execution_count": 8,
   "metadata": {},
   "outputs": [
    {
     "name": "stdout",
     "output_type": "stream",
     "text": [
      "<class 'pandas.core.frame.DataFrame'>\n",
      "Index: 764 entries, 5 to 768\n",
      "Data columns (total 6 columns):\n",
      " #   Column      Non-Null Count  Dtype  \n",
      "---  ------      --------------  -----  \n",
      " 0   0           0 non-null      object \n",
      " 1   name        764 non-null    object \n",
      " 2   latitude    764 non-null    float64\n",
      " 3   longitude   764 non-null    float64\n",
      " 4   ebikes      764 non-null    float64\n",
      " 5   normalbike  764 non-null    float64\n",
      "dtypes: float64(4), object(2)\n",
      "memory usage: 41.8+ KB\n",
      "None\n",
      "         latitude   longitude      ebikes  normalbike\n",
      "count  764.000000  764.000000  764.000000  764.000000\n",
      "mean    43.670675  -79.396130    0.170157    7.435864\n",
      "std      0.032863    0.064623    0.747104    5.993428\n",
      "min     43.588077  -79.550404    0.000000    0.000000\n",
      "25%     43.649311  -79.434823    0.000000    3.000000\n",
      "50%     43.663155  -79.395309    0.000000    6.000000\n",
      "75%     43.685102  -79.366957    0.000000   11.000000\n",
      "max     43.788319  -79.123505   11.000000   48.000000\n",
      "0               0\n",
      "name          764\n",
      "latitude      761\n",
      "longitude     763\n",
      "ebikes          8\n",
      "normalbike     31\n",
      "dtype: int64\n",
      "0             764\n",
      "name            0\n",
      "latitude        0\n",
      "longitude       0\n",
      "ebikes          0\n",
      "normalbike      0\n",
      "dtype: int64\n"
     ]
    }
   ],
   "source": [
    "#print the details of the pint\n",
    "#Display Basic Information:\n",
    "print(bike_info_df.info())\n",
    "#Display Descriptive Statistics:\n",
    "print(bike_info_df.describe())\n",
    "#Count Unique Values:\n",
    "print(bike_info_df.nunique())\n",
    "#Count Missing Values:\n",
    "print(bike_info_df.isnull().sum())"
   ]
  }
 ],
 "metadata": {
  "kernelspec": {
   "display_name": "test",
   "language": "python",
   "name": "test"
  },
  "language_info": {
   "codemirror_mode": {
    "name": "ipython",
    "version": 3
   },
   "file_extension": ".py",
   "mimetype": "text/x-python",
   "name": "python",
   "nbconvert_exporter": "python",
   "pygments_lexer": "ipython3",
   "version": "3.11.6"
  }
 },
 "nbformat": 4,
 "nbformat_minor": 4
}
